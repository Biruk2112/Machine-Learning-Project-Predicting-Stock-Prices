{
 "cells": [
  {
   "cell_type": "code",
   "execution_count": 1,
   "id": "31a2754f",
   "metadata": {},
   "outputs": [
    {
     "name": "stdout",
     "output_type": "stream",
     "text": [
      "TensorFlow version: 2.12.0\n"
     ]
    }
   ],
   "source": [
    "import ta\n",
    "import tqdm\n",
    "import numpy as np\n",
    "import pandas as pd\n",
    "import matplotlib.pyplot as plt\n",
    "%matplotlib inline\n",
    "\n",
    "from sklearn.preprocessing import StandardScaler\n",
    "from sklearn.model_selection import train_test_split\n",
    "from sklearn.decomposition import PCA\n",
    "from sklearn.linear_model import LogisticRegression\n",
    "from sklearn.tree import DecisionTreeClassifier\n",
    "from sklearn.ensemble import RandomForestClassifier, GradientBoostingClassifier\n",
    "from sklearn.metrics import accuracy_score, f1_score, roc_auc_score\n",
    "\n",
    "import tensorflow as tf\n",
    "print(f'TensorFlow version: {tf.__version__}')"
   ]
  },
  {
   "cell_type": "code",
   "execution_count": 2,
   "id": "0cf7e12a",
   "metadata": {},
   "outputs": [],
   "source": [
    "# Read data\n",
    "df = pd.read_csv('./2019_AAPL_1min.csv', header=0, index_col=0)\n",
    "df.index = pd.to_datetime(df.index).tz_localize(None).to_period('T')"
   ]
  },
  {
   "cell_type": "code",
   "execution_count": 3,
   "id": "07718574",
   "metadata": {},
   "outputs": [],
   "source": [
    "# Add label\n",
    "df['label'] = (df.close.shift(-1) - df.close).apply(lambda x: 0 if x < 0 else 1)"
   ]
  },
  {
   "cell_type": "code",
   "execution_count": 4,
   "id": "3726380d",
   "metadata": {},
   "outputs": [],
   "source": [
    "# Technical indicators\n",
    "momentum_indicators = ['roc', 'rsi', 'tsi']\n",
    "volatility_indicators = ['bb_bbhi', 'bb_bbli']\n",
    "trend_indicators = ['aroon_down', 'aroon', 'aroon_up', 'macd_line', 'macd_hist', 'macd_signal', \n",
    "                    'kst', 'kst_diff', 'kst_signal', 'dpo', 'trix', 'sma_10', 'sma_20', 'sma_30', 'sma_60',\n",
    "                    'ema_10', 'ema_20', 'ema_30', 'ema_60']\n",
    "volume_indicators = ['obv', 'vpt', 'fi', 'nvi']"
   ]
  },
  {
   "cell_type": "code",
   "execution_count": 5,
   "id": "cb76285f",
   "metadata": {},
   "outputs": [],
   "source": [
    "for indicator in momentum_indicators:\n",
    "    df[indicator] = getattr(ta.momentum, indicator)(close=df.close)"
   ]
  },
  {
   "cell_type": "code",
   "execution_count": 6,
   "id": "848585ce",
   "metadata": {},
   "outputs": [],
   "source": [
    "# Volatility indicators\n",
    "bb_indicator = ta.volatility.BollingerBands(close=df.close)\n",
    "df['bb_bbhi'] = bb_indicator.bollinger_hband_indicator()\n",
    "df['bb_bbli'] = bb_indicator.bollinger_lband_indicator()"
   ]
  },
  {
   "cell_type": "code",
   "execution_count": 7,
   "id": "8fb779c8",
   "metadata": {},
   "outputs": [],
   "source": [
    "# Trend indicators\n",
    "aroon_indicator = ta.trend.AroonIndicator(high=df['high'], low=df['low'])\n",
    "macd_indicator = ta.trend.MACD(close=df['close'])\n",
    "\n",
    "# Add trend indicators to DataFrame\n",
    "df['aroon_down'] = aroon_indicator.aroon_down()\n",
    "df['aroon'] = aroon_indicator.aroon_indicator()\n",
    "df['aroon_up'] = aroon_indicator.aroon_up()\n",
    "\n",
    "df['macd_line'] = macd_indicator.macd()\n",
    "df['macd_hist'] = macd_indicator.macd_diff()\n",
    "df['macd_signal'] = macd_indicator.macd_signal()"
   ]
  },
  {
   "cell_type": "code",
   "execution_count": 8,
   "id": "566a62d8",
   "metadata": {},
   "outputs": [],
   "source": [
    "for indicator in volume_indicators:\n",
    "    if indicator == 'obv':\n",
    "        df[indicator] = ta.volume.on_balance_volume(close=df.close, volume=df.volume)\n",
    "    elif indicator == 'vpt':\n",
    "        df[indicator] = ta.volume.volume_price_trend(close=df.close, volume=df.volume)\n",
    "    elif indicator == 'fi':\n",
    "        df[indicator] = ta.volume.force_index(close=df.close, volume=df.volume)\n",
    "    elif indicator == 'nvi':\n",
    "        df[indicator] = ta.volume.negative_volume_index(close=df.close, volume=df.volume)"
   ]
  },
  {
   "cell_type": "code",
   "execution_count": 9,
   "id": "9779990e",
   "metadata": {},
   "outputs": [],
   "source": [
    "# Time features\n",
    "df['datetime'] = df.index.to_timestamp()\n",
    "time_features = ['minute', 'hour', 'day', 'month']\n",
    "for feature in time_features:\n",
    "    df[f'{feature}_sin'] = np.sin(2 * np.pi * getattr(df.datetime.dt, feature) / (30 if feature == 'day' else 60))"
   ]
  },
  {
   "cell_type": "code",
   "execution_count": 10,
   "id": "b686e6b6",
   "metadata": {},
   "outputs": [],
   "source": [
    "# Drop unnecessary columns\n",
    "df = df.drop(['datetime'], axis=1)"
   ]
  },
  {
   "cell_type": "code",
   "execution_count": 11,
   "id": "11076e39",
   "metadata": {},
   "outputs": [],
   "source": [
    "# Split data\n",
    "df_na = df.dropna(axis=0)\n",
    "labels = df_na.label\n",
    "df_na = df_na.drop(['label'], axis=1)\n",
    "X_train, X_test, y_train, y_test = train_test_split(df_na.values, labels.values, test_size=0.05, random_state=42)"
   ]
  },
  {
   "cell_type": "code",
   "execution_count": 12,
   "id": "5694df2c",
   "metadata": {},
   "outputs": [],
   "source": [
    "# Standardize data\n",
    "scaler = StandardScaler()\n",
    "X_train_scaled = scaler.fit_transform(X_train)\n",
    "X_test_scaled = scaler.transform(X_test)"
   ]
  },
  {
   "cell_type": "code",
   "execution_count": 13,
   "id": "f72a24ee",
   "metadata": {},
   "outputs": [],
   "source": [
    "# PCA\n",
    "pca = PCA(n_components=0.8, random_state=42)\n",
    "X_train_pca = pca.fit_transform(X_train_scaled)\n",
    "X_test_pca = pca.transform(X_test_scaled)"
   ]
  },
  {
   "cell_type": "code",
   "execution_count": 14,
   "id": "3e5a1630",
   "metadata": {},
   "outputs": [],
   "source": [
    "# Classifier models\n",
    "models = {\n",
    "    'Logistic Regression': LogisticRegression(),\n",
    "    'Decision Tree': DecisionTreeClassifier(),\n",
    "    'Random Forest': RandomForestClassifier(),\n",
    "    'Gradient Boosting': GradientBoostingClassifier()\n",
    "}"
   ]
  },
  {
   "cell_type": "code",
   "execution_count": 15,
   "id": "dac604ee",
   "metadata": {},
   "outputs": [
    {
     "name": "stdout",
     "output_type": "stream",
     "text": [
      "Logistic Regression: acc=58.22% - f1=72.64% - roc=55.93%\n",
      "Decision Tree: acc=53.47% - f1=59.47% - roc=52.48%\n",
      "Random Forest: acc=56.60% - f1=64.63% - roc=57.78%\n",
      "Gradient Boosting: acc=58.28% - f1=73.04% - roc=57.39%\n"
     ]
    }
   ],
   "source": [
    "# Train and evaluate models\n",
    "for name, model in models.items():\n",
    "    model.fit(X_train_pca, y_train)\n",
    "    y_pred = model.predict_proba(X_test_pca)\n",
    "    acc = accuracy_score(y_test, y_pred.argmax(axis=1))\n",
    "    f1 = f1_score(y_test, y_pred.argmax(axis=1))\n",
    "    roc = roc_auc_score(y_test, y_pred[:, 1])\n",
    "    print(f'{name}: acc={acc*100:.2f}% - f1={f1*100:.2f}% - roc={roc*100:.2f}%')"
   ]
  },
  {
   "cell_type": "code",
   "execution_count": 17,
   "id": "256dfb11",
   "metadata": {},
   "outputs": [],
   "source": [
    "import seaborn as sns"
   ]
  },
  {
   "cell_type": "code",
   "execution_count": 19,
   "id": "5dbc87b5",
   "metadata": {},
   "outputs": [
    {
     "data": {
      "image/png": "[encoded data removed]",
      "text/plain": [
       "<Figure size 600x400 with 1 Axes>"
      ]
     },
     "metadata": {},
     "output_type": "display_data"
    }
   ],
   "source": [
    "# Visualize distribution of label\n",
    "plt.figure(figsize=(6, 4))\n",
    "sns.countplot(x='label', data=df)\n",
    "plt.title('Distribution of Label')\n",
    "plt.xlabel('Label')\n",
    "plt.ylabel('Count')\n",
    "plt.show()"
   ]
  }
 ],
 "metadata": {
  "kernelspec": {
   "display_name": "Python 3 (ipykernel)",
   "language": "python",
   "name": "python3"
  },
  "language_info": {
   "codemirror_mode": {
    "name": "ipython",
    "version": 3
   },
   "file_extension": ".py",
   "mimetype": "text/x-python",
   "name": "python",
   "nbconvert_exporter": "python",
   "pygments_lexer": "ipython3",
   "version": "3.10.8"
  }
 },
 "nbformat": 4,
 "nbformat_minor": 5
}
